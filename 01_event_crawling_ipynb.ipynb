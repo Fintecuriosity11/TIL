{
  "nbformat": 4,
  "nbformat_minor": 0,
  "metadata": {
    "colab": {
      "name": "01_event-crawling.ipynb.ipynb",
      "provenance": [],
      "authorship_tag": "ABX9TyMgFxvAxo8lu2BcjSfqRFZI"
    },
    "kernelspec": {
      "name": "python3",
      "display_name": "Python 3"
    }
  },
  "cells": [
    {
      "cell_type": "code",
      "metadata": {
        "id": "GJ7QeHaw9P1Y",
        "colab_type": "code",
        "colab": {
          "base_uri": "https://localhost:8080/",
          "height": 35
        },
        "outputId": "4ec0bf48-cfc4-4fdf-992e-da9a3ec3cc27"
      },
      "source": [
        "# 라이브러리 로드\n",
        "# requests는 작은 웹브라우저로 웹사이트 내용을 가져온다.\n",
        "import requests\n",
        "# BeautifulSoup 을 통해 읽어 온 웹페이지를 파싱한다.\n",
        "from bs4 import BeautifulSoup as bs\n",
        "# 크롤링 후 결과를 데이터프레임 형태로 보기 위해 불러온다.\n",
        "import pandas as pd\n",
        "\n",
        "from tqdm import trange\n",
        "\n",
        "# 크롤링 할 사이트\n",
        "base_url = \"https://www.inflearn.com/pages/newyear-event-20200102\"\n",
        "response = requests.get( base_url )\n",
        "response"
      ],
      "execution_count": 1,
      "outputs": [
        {
          "output_type": "execute_result",
          "data": {
            "text/plain": [
              "<Response [200]>"
            ]
          },
          "metadata": {
            "tags": []
          },
          "execution_count": 1
        }
      ]
    },
    {
      "cell_type": "code",
      "metadata": {
        "id": "q9G8cloC-kpU",
        "colab_type": "code",
        "colab": {
          "base_uri": "https://localhost:8080/",
          "height": 550
        },
        "outputId": "cd344c9d-5cd9-4a76-d6b6-e9fcf2ae8674"
      },
      "source": [
        "soup = bs(response.text, 'html.parser')\n",
        "\n",
        "# main > section > div > div > div.chitchats > div.chitchat-list >\n",
        "# div:nth-child(33) > div > div.body.edit-chitchat\n",
        "\n",
        "content = soup.select(\"#main > section > div > div > div.chitchats > div.chitchat-list > div\")\n",
        "content[-1]"
      ],
      "execution_count": 2,
      "outputs": [
        {
          "output_type": "execute_result",
          "data": {
            "text/plain": [
              "<div class=\"chitchat-item\">\n",
              "<figure class=\"image is-48x48\">\n",
              "<img alt=\"인프런\" class=\"user_thumb is-rounded\" src=\"https://cdn.inflearn.com/wp-content/uploads/avatars/17/b415d9fa24d186c4adf22ca9a49116b5-bpfull.png\"/>\n",
              "</figure>\n",
              "<div class=\"content\">\n",
              "<div class=\"author\">\n",
              "<span class=\"author_name\">인프런</span>\n",
              "<time class=\"created_at\" datetime=\"Sun Dec 29 2019 17:59:00 GMT+0900 (GMT+09:00)\">⋅ 2개월 전</time>\n",
              "<a class=\"update-chitchat edit-chitchat is-hidden\" data-id=\"18594\" type=\"button\">저장</a>\n",
              "<a class=\"hidden-editor edit-chitchat is-hidden\" type=\"button\">취소</a>\n",
              "<a class=\"edit-chitchat no_cmt_reply\" type=\"button\">답글달기</a>\n",
              "</div>\n",
              "<div class=\"body edit-chitchat\">인프런 0호 팀원이에요!\n",
              "그동안 서비스 개발 때문에 js 를 많이 했었는데 앞으론 통계나 분석을 많이 하고 싶어서 파이썬을 공부하고 싶어요! 올해 파이썬 마스터가 되는걸로..\n",
              "#관심강의: 남박사의 파이썬 활용</div>\n",
              "<textarea class=\"textarea edit-chitchat is-hidden\"></textarea>\n",
              "<div class=\"summary_comments\">\n",
              "</div>\n",
              "<div class=\"chitchats_and_editor is-hidden\">\n",
              "<div class=\"chitchat-comment-list\">\n",
              "</div>\n",
              "<div class=\"cmt-editor\">\n",
              "<div class=\"field\">\n",
              "<textarea class=\"textarea\" placeholder=\"내용을 입력해 주세요.\"></textarea>\n",
              "</div>\n",
              "<button class=\"insert-chitchat-cmt button\" data-post_id=\"18594\" type=\"button\">등록</button>\n",
              "</div>\n",
              "</div>\n",
              "</div>\n",
              "</div>"
            ]
          },
          "metadata": {
            "tags": []
          },
          "execution_count": 2
        }
      ]
    },
    {
      "cell_type": "code",
      "metadata": {
        "id": "iM-2fKq4-sGI",
        "colab_type": "code",
        "colab": {
          "base_uri": "https://localhost:8080/",
          "height": 35
        },
        "outputId": "2cab1ea3-0169-4673-f707-02c0deb255a5"
      },
      "source": [
        "content[-1].select(\"div.body.edit-chitchat\")[0].get_text(strip=True)"
      ],
      "execution_count": 3,
      "outputs": [
        {
          "output_type": "execute_result",
          "data": {
            "text/plain": [
              "'인프런 0호 팀원이에요!\\n그동안 서비스 개발 때문에 js 를 많이 했었는데 앞으론 통계나 분석을 많이 하고 싶어서 파이썬을 공부하고 싶어요! 올해 파이썬 마스터가 되는걸로..\\n#관심강의: 남박사의 파이썬 활용'"
            ]
          },
          "metadata": {
            "tags": []
          },
          "execution_count": 3
        }
      ]
    },
    {
      "cell_type": "code",
      "metadata": {
        "id": "Q4U_5mmQ-yEE",
        "colab_type": "code",
        "colab": {
          "base_uri": "https://localhost:8080/",
          "height": 35
        },
        "outputId": "9fc460bd-1c3a-4988-ddc7-2e065d31b9dc"
      },
      "source": [
        "chitchat = content[-1].select(\"div.body.edit-chitchat\")[0].get_text(strip=True)\n",
        "chitchat"
      ],
      "execution_count": 4,
      "outputs": [
        {
          "output_type": "execute_result",
          "data": {
            "text/plain": [
              "'인프런 0호 팀원이에요!\\n그동안 서비스 개발 때문에 js 를 많이 했었는데 앞으론 통계나 분석을 많이 하고 싶어서 파이썬을 공부하고 싶어요! 올해 파이썬 마스터가 되는걸로..\\n#관심강의: 남박사의 파이썬 활용'"
            ]
          },
          "metadata": {
            "tags": []
          },
          "execution_count": 4
        }
      ]
    },
    {
      "cell_type": "code",
      "metadata": {
        "id": "C-p6QrCq-4gE",
        "colab_type": "code",
        "colab": {
          "base_uri": "https://localhost:8080/",
          "height": 230
        },
        "outputId": "6bb1b190-ecbe-4db8-ace9-a3338c8a696b"
      },
      "source": [
        "events = []\n",
        "for i in range(5):\n",
        "    print(\"-\"*20)\n",
        "    chitchat = content[i].select(\"div.body.edit-chitchat\")[0].get_text(strip=True)\n",
        "    print(chitchat)\n",
        "    events.append(chitchat)"
      ],
      "execution_count": 5,
      "outputs": [
        {
          "output_type": "stream",
          "text": [
            "--------------------\n",
            "2020년 목표: 스프링 열심히 공부하서 직장에서 사랑받고 싶어요!!\n",
            "관심 있는 강의 : 스프링 웹 MVC\n",
            "--------------------\n",
            "2020년 목표: C++ 열심히 공부해서, 학교에서 꼭 A 맞기..!! \n",
            "관심있는 강의: 따배씨 C++\n",
            "--------------------\n",
            "2020년 목표 : 리액트 공부하기\n",
            "--------------------\n",
            "40대 프로그래밍 시작! : 우리를 위한 프로그래밍 : 파이썬 중급\n",
            "--------------------\n",
            "2020년 목표 : 돌머리 비전공자가 멋진 전공자 되기!\n"
          ],
          "name": "stdout"
        }
      ]
    },
    {
      "cell_type": "code",
      "metadata": {
        "id": "fLtDi0Cp-9rY",
        "colab_type": "code",
        "colab": {
          "base_uri": "https://localhost:8080/",
          "height": 35
        },
        "outputId": "d0d83607-7b02-45e1-8689-7e4e652f533c"
      },
      "source": [
        "events\n",
        "\n",
        "content_count = len(content)\n",
        "content_count\n",
        "\n",
        "events = []\n",
        "for i in trange(content_count):\n",
        "    chitchat = content[i].select(\"div.body.edit-chitchat\")[0].get_text(strip=True)\n",
        "    events.append(chitchat)"
      ],
      "execution_count": 6,
      "outputs": [
        {
          "output_type": "stream",
          "text": [
            "100%|██████████| 2450/2450 [00:00<00:00, 12594.30it/s]\n"
          ],
          "name": "stderr"
        }
      ]
    },
    {
      "cell_type": "code",
      "metadata": {
        "id": "q3towh8x_EnW",
        "colab_type": "code",
        "colab": {
          "base_uri": "https://localhost:8080/",
          "height": 35
        },
        "outputId": "57c1ea0d-383a-4c51-a5b5-42bf52d870ea"
      },
      "source": [
        "df = pd.DataFrame({\"text\": events})\n",
        "df.shape"
      ],
      "execution_count": 7,
      "outputs": [
        {
          "output_type": "execute_result",
          "data": {
            "text/plain": [
              "(2450, 1)"
            ]
          },
          "metadata": {
            "tags": []
          },
          "execution_count": 7
        }
      ]
    },
    {
      "cell_type": "code",
      "metadata": {
        "id": "Y6IQCs_9_IAj",
        "colab_type": "code",
        "colab": {
          "base_uri": "https://localhost:8080/",
          "height": 194
        },
        "outputId": "4c72713e-31f4-462f-ceed-5cc81f6199e7"
      },
      "source": [
        "df.to_csv(\"inflearn-event.csv\", index=False)\n",
        "\n",
        "pd.read_csv(\"inflearn-event.csv\").head()"
      ],
      "execution_count": 8,
      "outputs": [
        {
          "output_type": "execute_result",
          "data": {
            "text/html": [
              "<div>\n",
              "<style scoped>\n",
              "    .dataframe tbody tr th:only-of-type {\n",
              "        vertical-align: middle;\n",
              "    }\n",
              "\n",
              "    .dataframe tbody tr th {\n",
              "        vertical-align: top;\n",
              "    }\n",
              "\n",
              "    .dataframe thead th {\n",
              "        text-align: right;\n",
              "    }\n",
              "</style>\n",
              "<table border=\"1\" class=\"dataframe\">\n",
              "  <thead>\n",
              "    <tr style=\"text-align: right;\">\n",
              "      <th></th>\n",
              "      <th>text</th>\n",
              "    </tr>\n",
              "  </thead>\n",
              "  <tbody>\n",
              "    <tr>\n",
              "      <th>0</th>\n",
              "      <td>2020년 목표: 스프링 열심히 공부하서 직장에서 사랑받고 싶어요!!\\n관심 있는 ...</td>\n",
              "    </tr>\n",
              "    <tr>\n",
              "      <th>1</th>\n",
              "      <td>2020년 목표: C++ 열심히 공부해서, 학교에서 꼭 A 맞기..!! \\n관심있는...</td>\n",
              "    </tr>\n",
              "    <tr>\n",
              "      <th>2</th>\n",
              "      <td>2020년 목표 : 리액트 공부하기</td>\n",
              "    </tr>\n",
              "    <tr>\n",
              "      <th>3</th>\n",
              "      <td>40대 프로그래밍 시작! : 우리를 위한 프로그래밍 : 파이썬 중급</td>\n",
              "    </tr>\n",
              "    <tr>\n",
              "      <th>4</th>\n",
              "      <td>2020년 목표 : 돌머리 비전공자가 멋진 전공자 되기!</td>\n",
              "    </tr>\n",
              "  </tbody>\n",
              "</table>\n",
              "</div>"
            ],
            "text/plain": [
              "                                                text\n",
              "0  2020년 목표: 스프링 열심히 공부하서 직장에서 사랑받고 싶어요!!\\n관심 있는 ...\n",
              "1  2020년 목표: C++ 열심히 공부해서, 학교에서 꼭 A 맞기..!! \\n관심있는...\n",
              "2                                2020년 목표 : 리액트 공부하기\n",
              "3              40대 프로그래밍 시작! : 우리를 위한 프로그래밍 : 파이썬 중급\n",
              "4                    2020년 목표 : 돌머리 비전공자가 멋진 전공자 되기!"
            ]
          },
          "metadata": {
            "tags": []
          },
          "execution_count": 8
        }
      ]
    }
  ]
}