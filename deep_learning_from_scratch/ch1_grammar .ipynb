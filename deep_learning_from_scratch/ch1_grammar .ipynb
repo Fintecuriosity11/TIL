{
 "nbformat": 4,
 "nbformat_minor": 0,
 "metadata": {
  "colab": {
   "name": "ch1_grammar.ipynb",
   "provenance": [],
   "collapsed_sections": []
  },
  "kernelspec": {
   "name": "python3",
   "display_name": "Python 3"
  },
  "pycharm": {
   "stem_cell": {
    "cell_type": "raw",
    "source": [],
    "metadata": {
     "collapsed": false
    }
   }
  }
 },
 "cells": [
  {
   "cell_type": "markdown",
   "metadata": {
    "id": "6MV13fvXPEfj",
    "colab_type": "text"
   },
   "source": [
    "\n",
    "\n",
    "# 기본 파이썬 문법"
   ]
  },
  {
   "cell_type": "markdown",
   "metadata": {
    "id": "asg0RoQNPqW6",
    "colab_type": "text"
   },
   "source": [
    "# 1.1 자료형 (Data type)"
   ]
  },
  {
   "cell_type": "code",
   "metadata": {
    "id": "ZBmcnN8yPugv",
    "colab_type": "code",
    "outputId": "62088682-e2a8-4e50-ec8d-e29747085818",
    "colab": {
     "base_uri": "https://localhost:8080/",
     "height": 35
    }
   },
   "source": [
    "type(10)       # 정수, 자료형, integer\n",
    "\n",
    "type(2.718)    # 부동소수점, float\n",
    "\n",
    "type(\"hello\")  # 문자열, str"
   ],
   "execution_count": 0,
   "outputs": [
    {
     "output_type": "execute_result",
     "data": {
      "text/plain": [
       "str"
      ]
     },
     "metadata": {
      "tags": []
     },
     "execution_count": 3
    }
   ]
  },
  {
   "cell_type": "markdown",
   "metadata": {
    "id": "JJO-Pby9QWEQ",
    "colab_type": "text"
   },
   "source": [
    "# 1.2 변수 (Variable)"
   ]
  },
  {
   "cell_type": "code",
   "metadata": {
    "id": "A3E8exeoQyLC",
    "colab_type": "code",
    "outputId": "f32955cf-3699-417d-cda2-644343562e24",
    "colab": {
     "base_uri": "https://localhost:8080/",
     "height": 35
    }
   },
   "source": [
    "x = 10        # 초기화\n",
    "print(x)      # x 값을 출력"
   ],
   "execution_count": 0,
   "outputs": [
    {
     "output_type": "stream",
     "text": [
      "10\n"
     ],
     "name": "stdout"
    }
   ]
  },
  {
   "cell_type": "code",
   "metadata": {
    "id": "xg9DfBUSQ9wP",
    "colab_type": "code",
    "outputId": "ca0b1af4-fb75-46ef-d688-b332bb875a49",
    "colab": {
     "base_uri": "https://localhost:8080/",
     "height": 35
    }
   },
   "source": [
    "x = 200      # 변수에 새로운 값 대입\n",
    "print(x)"
   ],
   "execution_count": 0,
   "outputs": [
    {
     "output_type": "stream",
     "text": [
      "200\n"
     ],
     "name": "stdout"
    }
   ]
  },
  {
   "cell_type": "code",
   "metadata": {
    "id": "kVzeXTzsRIQH",
    "colab_type": "code",
    "outputId": "54a2eeec-cf0a-47e2-ef99-f40103eadc1a",
    "colab": {
     "base_uri": "https://localhost:8080/",
     "height": 35
    }
   },
   "source": [
    "y = 2.18*10   \n",
    "x * y        # 정수와 소수를 곱하여 float 출력\n",
    "             # 파이썬은 동적 언어 = 변수의 자료형을 상황에 맞게 자동으로 결정"
   ],
   "execution_count": 0,
   "outputs": [
    {
     "output_type": "execute_result",
     "data": {
      "text/plain": [
       "4360.0"
      ]
     },
     "metadata": {
      "tags": []
     },
     "execution_count": 6
    }
   ]
  },
  {
   "cell_type": "code",
   "metadata": {
    "id": "7LxNNU2RRUGe",
    "colab_type": "code",
    "outputId": "6c6b602b-2fbb-4f5f-a133-2a47a68fba55",
    "colab": {
     "base_uri": "https://localhost:8080/",
     "height": 35
    }
   },
   "source": [
    "type(x * y)"
   ],
   "execution_count": 0,
   "outputs": [
    {
     "output_type": "execute_result",
     "data": {
      "text/plain": [
       "float"
      ]
     },
     "metadata": {
      "tags": []
     },
     "execution_count": 7
    }
   ]
  },
  {
   "cell_type": "markdown",
   "metadata": {
    "id": "CAfYBQGaR44c",
    "colab_type": "text"
   },
   "source": [
    "# 1.3 리스트 (List)"
   ]
  },
  {
   "cell_type": "code",
   "metadata": {
    "id": "AFdZJ6MlR81T",
    "colab_type": "code",
    "outputId": "bbf01397-6b47-4e48-9706-e4d5df67080a",
    "colab": {
     "base_uri": "https://localhost:8080/",
     "height": 35
    }
   },
   "source": [
    "a = [1,3,5,7,9]     # 리스트 생성, 선형대수에서는  \n",
    "print(a)            # 리스트 내용 출력"
   ],
   "execution_count": 0,
   "outputs": [
    {
     "output_type": "stream",
     "text": [
      "[1, 3, 5, 7, 9]\n"
     ],
     "name": "stdout"
    }
   ]
  },
  {
   "cell_type": "code",
   "metadata": {
    "id": "wgWj5R6ZSPUk",
    "colab_type": "code",
    "outputId": "fbc377e3-b782-439d-9b36-761c3513c94e",
    "colab": {
     "base_uri": "https://localhost:8080/",
     "height": 35
    }
   },
   "source": [
    "len(a)              # 리스트의 길이 출력"
   ],
   "execution_count": 0,
   "outputs": [
    {
     "output_type": "execute_result",
     "data": {
      "text/plain": [
       "5"
      ]
     },
     "metadata": {
      "tags": []
     },
     "execution_count": 4
    }
   ]
  },
  {
   "cell_type": "code",
   "metadata": {
    "id": "Gdvp9N5CqDts",
    "colab_type": "code",
    "outputId": "d463e344-2804-4a96-e7d4-57ec9d4d8998",
    "colab": {
     "base_uri": "https://localhost:8080/",
     "height": 35
    }
   },
   "source": [
    "a[4]                # 리스트 a의 5번째 원소에 접근, 파이썬는 [] 안의 수를 \"인덱스\"라고 부르고,  0,1,2,3,4로 순서를 정의, 만약 a[0]을 출력하고자 한다면 1번째 원소에 접근하는 것 즉 1을 출력하게 된다"
   ],
   "execution_count": 0,
   "outputs": [
    {
     "output_type": "execute_result",
     "data": {
      "text/plain": [
       "9"
      ]
     },
     "metadata": {
      "tags": []
     },
     "execution_count": 7
    }
   ]
  },
  {
   "cell_type": "code",
   "metadata": {
    "id": "y7Z6Tq7_qwfj",
    "colab_type": "code",
    "outputId": "3f1cc5a9-2567-4e93-d3e9-de1c4d0db246",
    "colab": {
     "base_uri": "https://localhost:8080/",
     "height": 35
    }
   },
   "source": [
    "a[4] = 101          # 리스트 5번째 원소에 101를 대신 대입(replace)\n",
    "print(a)            "
   ],
   "execution_count": 0,
   "outputs": [
    {
     "output_type": "stream",
     "text": [
      "[1, 3, 5, 7, 101]\n"
     ],
     "name": "stdout"
    }
   ]
  },
  {
   "cell_type": "code",
   "metadata": {
    "id": "fTXZc8DfrIIE",
    "colab_type": "code",
    "outputId": "c3af6e2f-087d-4fcd-877a-c4be64117594",
    "colab": {
     "base_uri": "https://localhost:8080/",
     "height": 35
    }
   },
   "source": [
    "a[0:3]              # 인덱스(index) 0부터 3까지 얻기, (3번째는 포함하지 않는다.) \n",
    "                    # 리스트에서 slicing을 통해 리스트 안의 특정 원소 하나뿐 아니라 부분 리스트에도 접근이 가능! "
   ],
   "execution_count": 0,
   "outputs": [
    {
     "output_type": "execute_result",
     "data": {
      "text/plain": [
       "[1, 3, 5]"
      ]
     },
     "metadata": {
      "tags": []
     },
     "execution_count": 11
    }
   ]
  },
  {
   "cell_type": "code",
   "metadata": {
    "id": "6JLKeNxKruov",
    "colab_type": "code",
    "outputId": "52c5c89a-d602-49c6-bcda-35e241a58ba4",
    "colab": {
     "base_uri": "https://localhost:8080/",
     "height": 35
    }
   },
   "source": [
    "a[1:]               # 인덱스 1부터 끝까지 얻기 "
   ],
   "execution_count": 0,
   "outputs": [
    {
     "output_type": "execute_result",
     "data": {
      "text/plain": [
       "[3, 5, 7, 101]"
      ]
     },
     "metadata": {
      "tags": []
     },
     "execution_count": 12
    }
   ]
  },
  {
   "cell_type": "code",
   "metadata": {
    "id": "E-uY4j8zr4xn",
    "colab_type": "code",
    "outputId": "55747ae6-a90d-4b1d-c327-1fb5931827ab",
    "colab": {
     "base_uri": "https://localhost:8080/",
     "height": 35
    }
   },
   "source": [
    "a[:3]               # 처음부터 인덱스 (index) 3까지 얻기 (3번째 포함 X)"
   ],
   "execution_count": 0,
   "outputs": [
    {
     "output_type": "execute_result",
     "data": {
      "text/plain": [
       "[1, 3, 5]"
      ]
     },
     "metadata": {
      "tags": []
     },
     "execution_count": 13
    }
   ]
  },
  {
   "cell_type": "code",
   "metadata": {
    "id": "bCUYZtU4sGPo",
    "colab_type": "code",
    "outputId": "2f8f4721-9a00-4b61-f5b6-3c9d9eb498e8",
    "colab": {
     "base_uri": "https://localhost:8080/",
     "height": 35
    }
   },
   "source": [
    "a[:-1]              # 처음부터 마지막 원소의 1개 앞까지 얻기"
   ],
   "execution_count": 0,
   "outputs": [
    {
     "output_type": "execute_result",
     "data": {
      "text/plain": [
       "[1, 3, 5, 7]"
      ]
     },
     "metadata": {
      "tags": []
     },
     "execution_count": 14
    }
   ]
  },
  {
   "cell_type": "code",
   "metadata": {
    "id": "bay4GNI0sVUh",
    "colab_type": "code",
    "outputId": "b92d8946-e2df-40e6-c4a8-71abff4bb90e",
    "colab": {
     "base_uri": "https://localhost:8080/",
     "height": 35
    }
   },
   "source": [
    "a[:-2]              # 처음부터 마지막 원소의 2개 앞까지 얻기"
   ],
   "execution_count": 0,
   "outputs": [
    {
     "output_type": "execute_result",
     "data": {
      "text/plain": [
       "[1, 3, 5]"
      ]
     },
     "metadata": {
      "tags": []
     },
     "execution_count": 15
    }
   ]
  },
  {
   "cell_type": "markdown",
   "metadata": {
    "id": "qzzAyD3ys8GR",
    "colab_type": "text"
   },
   "source": [
    "# 1.4 딕셔너리 \n",
    "* 딕셔너리(dictionary)는 키(key)와 값(value)을 한 쌍으로 저장. 사전에서 단어와 의미를 짝지어 저장하는 방법과 유사  "
   ]
  },
  {
   "cell_type": "code",
   "metadata": {
    "id": "SiuPnriPtbSn",
    "colab_type": "code",
    "outputId": "5188520d-9e83-4532-99eb-ef819ed64322",
    "colab": {
     "base_uri": "https://localhost:8080/",
     "height": 35
    }
   },
   "source": [
    "me = {'height' :185}     # dictionary 생성\n",
    "me['height']             # 원소에 접근"
   ],
   "execution_count": 0,
   "outputs": [
    {
     "output_type": "execute_result",
     "data": {
      "text/plain": [
       "185"
      ]
     },
     "metadata": {
      "tags": []
     },
     "execution_count": 21
    }
   ]
  },
  {
   "cell_type": "code",
   "metadata": {
    "id": "cOxWLtAktk-I",
    "colab_type": "code",
    "outputId": "b54d16cb-c6d1-4917-8b42-f1ed3a4bc358",
    "colab": {
     "base_uri": "https://localhost:8080/",
     "height": 35
    }
   },
   "source": [
    "me['weight'] = 74      # 새로운 원소 추가\n",
    "print(me)"
   ],
   "execution_count": 0,
   "outputs": [
    {
     "output_type": "stream",
     "text": [
      "{'height': 185, 'weight': 74}\n"
     ],
     "name": "stdout"
    }
   ]
  },
  {
   "cell_type": "markdown",
   "metadata": {
    "id": "1h6bVVfRuOJL",
    "colab_type": "text"
   },
   "source": [
    "# 1.5 bool (불리언)\n",
    " * 이 자료형은 True(참)와 false(거짓)라는 2값중 하나를 취함. 또 bool에는 and,or,not 연산자를 사용할 수 있음 "
   ]
  },
  {
   "cell_type": "code",
   "metadata": {
    "id": "Us2KK3T6uKpk",
    "colab_type": "code",
    "outputId": "c5558789-c38d-4971-d7f1-0542762b0451",
    "colab": {
     "base_uri": "https://localhost:8080/",
     "height": 35
    }
   },
   "source": [
    "sleepy = True\n",
    "hungry = False \n",
    "\n",
    "type(sleepy)"
   ],
   "execution_count": 0,
   "outputs": [
    {
     "output_type": "execute_result",
     "data": {
      "text/plain": [
       "bool"
      ]
     },
     "metadata": {
      "tags": []
     },
     "execution_count": 27
    }
   ]
  },
  {
   "cell_type": "code",
   "metadata": {
    "id": "PfUtmfc5vSTa",
    "colab_type": "code",
    "outputId": "a2fc4f01-fc8f-45c9-d358-4df92044f790",
    "colab": {
     "base_uri": "https://localhost:8080/",
     "height": 35
    }
   },
   "source": [
    "not sleepy"
   ],
   "execution_count": 0,
   "outputs": [
    {
     "output_type": "execute_result",
     "data": {
      "text/plain": [
       "False"
      ]
     },
     "metadata": {
      "tags": []
     },
     "execution_count": 28
    }
   ]
  },
  {
   "cell_type": "code",
   "metadata": {
    "id": "Cblzq3SnvXGA",
    "colab_type": "code",
    "outputId": "84d7d907-c4b7-4e1f-e865-44045668dce7",
    "colab": {
     "base_uri": "https://localhost:8080/",
     "height": 35
    }
   },
   "source": [
    "sleepy and hungry"
   ],
   "execution_count": 0,
   "outputs": [
    {
     "output_type": "execute_result",
     "data": {
      "text/plain": [
       "False"
      ]
     },
     "metadata": {
      "tags": []
     },
     "execution_count": 30
    }
   ]
  },
  {
   "cell_type": "code",
   "metadata": {
    "id": "SG4xRyICvajn",
    "colab_type": "code",
    "outputId": "99d1a56a-4dfc-4cd2-cc22-5ab8083c4d56",
    "colab": {
     "base_uri": "https://localhost:8080/",
     "height": 35
    }
   },
   "source": [
    "sleepy or hungry"
   ],
   "execution_count": 0,
   "outputs": [
    {
     "output_type": "execute_result",
     "data": {
      "text/plain": [
       "True"
      ]
     },
     "metadata": {
      "tags": []
     },
     "execution_count": 31
    }
   ]
  },
  {
   "cell_type": "markdown",
   "metadata": {
    "id": "ZcB04sYPw9_S",
    "colab_type": "text"
   },
   "source": [
    "# 1.6 if statement (if 문)\n",
    "* 조건에 따라 다르게 처리하려면 if/else statement 사용 "
   ]
  },
  {
   "cell_type": "code",
   "metadata": {
    "id": "PudPm8Btw9tT",
    "colab_type": "code",
    "outputId": "194a434d-b90b-4e6a-f40a-903192e6acb8",
    "colab": {
     "base_uri": "https://localhost:8080/",
     "height": 52
    }
   },
   "source": [
    "tired = False\n",
    "if tired:\n",
    "    print(\"I'm tired\")\n",
    "else:\n",
    "    print(\"I'm not tired\")\n",
    "    print(\"I'm happy\")"
   ],
   "execution_count": 0,
   "outputs": [
    {
     "output_type": "stream",
     "text": [
      "I'm not tired\n",
      "I'm happy\n"
     ],
     "name": "stdout"
    }
   ]
  }
 ]
}