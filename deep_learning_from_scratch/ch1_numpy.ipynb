{
  "nbformat": 4,
  "nbformat_minor": 0,
  "metadata": {
    "colab": {
      "name": "ch1_numpy.ipynb",
      "provenance": []
    },
    "kernelspec": {
      "name": "python3",
      "display_name": "Python 3"
    }
  },
  "cells": [
    {
      "cell_type": "markdown",
      "metadata": {
        "id": "XfiWOKxq9Ow9",
        "colab_type": "text"
      },
      "source": [
        "![대체 텍스트](https://aster.cloud/wp-content/uploads/2019/10/numpy-install-cover.jpg)\n",
        "\n",
        "![대체 텍스트](data:image/png;base64,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)\n",
        "\n",
        "# 1.7 Numpy\n",
        "> 배열이나 행렬 연산을 할때 쓰이는 파이썬의 라이브러리\n",
        "\n",
        "---\n",
        "> library for the Python programming language, adding support for large, multi-dimensional arrays and matrices, along with a large collection of high-level mathematical functions to operate on these arrays. (reference: wiki)\n"
      ]
    },
    {
      "cell_type": "code",
      "metadata": {
        "id": "q36k16Eg8jVK",
        "colab_type": "code",
        "colab": {
          "base_uri": "https://localhost:8080/",
          "height": 52
        },
        "outputId": "faa91c96-2221-4809-adaf-0f786c634a21"
      },
      "source": [
        "import numpy as np                     # Numpy는 \"외부 라이브러리\" 이기 때문에 기능을 쓰려면 import를 먼저해야 한다. numpy를 np라는 이름을 통해 가져오라 선언하면 앞으로 넘파이가 제공하는 메서드는 np를 통해 참조 가능\n",
        "\n",
        "x = np.array([1.0, 2.0, 4.0])        # np.array는 파이썬 list를 인수로 받아 numpy 라이브러리가 제공하는 특수한 형태의 배열(numpy.ndarray)을 반환\n",
        "print(x)                 \n",
        "\n",
        "type(x)"
      ],
      "execution_count": 3,
      "outputs": [
        {
          "output_type": "stream",
          "text": [
            "[1. 2. 4.]\n"
          ],
          "name": "stdout"
        },
        {
          "output_type": "execute_result",
          "data": {
            "text/plain": [
              "numpy.ndarray"
            ]
          },
          "metadata": {
            "tags": []
          },
          "execution_count": 3
        }
      ]
    },
    {
      "cell_type": "markdown",
      "metadata": {
        "id": "6qkJfned_tlI",
        "colab_type": "text"
      },
      "source": [
        "# 1.71 Numpy의 산술연산\n",
        "\n",
        "* 이 예제에서는 배열 x와 y의 원소 값이 똑같다. (원소 3개를 가지는 1차원 배열)\n",
        "* 원소 수가 다르면 오류가 발생\n",
        "* 원소별 = element-wise / 원소별 곱셉 = element-wise product\n",
        "* Numpy는 원소별 계산만 아니라 numpy 배열과 수치 하나(스칼라값)의 조합으로 된 산술 연산도 가능"
      ]
    },
    {
      "cell_type": "code",
      "metadata": {
        "id": "pTgEDImYAgQa",
        "colab_type": "code",
        "colab": {
          "base_uri": "https://localhost:8080/",
          "height": 35
        },
        "outputId": "c53c3066-083e-45c2-bf34-d41cc088cfa8"
      },
      "source": [
        " x = np.array([1,3,5])\n",
        " y = np.array([4,6,8])\n",
        "\n",
        " x + y                       # element-wise addition\n"
      ],
      "execution_count": 6,
      "outputs": [
        {
          "output_type": "execute_result",
          "data": {
            "text/plain": [
              "array([ 5,  9, 13])"
            ]
          },
          "metadata": {
            "tags": []
          },
          "execution_count": 6
        }
      ]
    },
    {
      "cell_type": "code",
      "metadata": {
        "id": "mhJRr4hHBVMK",
        "colab_type": "code",
        "colab": {
          "base_uri": "https://localhost:8080/",
          "height": 35
        },
        "outputId": "7a3b4a9d-30f8-44b7-8c39-a39a0aaac29b"
      },
      "source": [
        " x - y                       # element-wise subtaction"
      ],
      "execution_count": 7,
      "outputs": [
        {
          "output_type": "execute_result",
          "data": {
            "text/plain": [
              "array([-3, -3, -3])"
            ]
          },
          "metadata": {
            "tags": []
          },
          "execution_count": 7
        }
      ]
    },
    {
      "cell_type": "code",
      "metadata": {
        "id": "ZUKD3BmyBXR4",
        "colab_type": "code",
        "colab": {
          "base_uri": "https://localhost:8080/",
          "height": 35
        },
        "outputId": "7ab22801-0dbd-4f28-8035-b83e40d1d0ed"
      },
      "source": [
        "x * y                        # element-wise product"
      ],
      "execution_count": 8,
      "outputs": [
        {
          "output_type": "execute_result",
          "data": {
            "text/plain": [
              "array([ 4, 18, 40])"
            ]
          },
          "metadata": {
            "tags": []
          },
          "execution_count": 8
        }
      ]
    },
    {
      "cell_type": "code",
      "metadata": {
        "id": "u3DtwQ8VBgKH",
        "colab_type": "code",
        "colab": {
          "base_uri": "https://localhost:8080/",
          "height": 35
        },
        "outputId": "66d05b44-33a8-4ecc-9eb9-d36cbf902aa8"
      },
      "source": [
        "x / y                        # element-wise divsion"
      ],
      "execution_count": 9,
      "outputs": [
        {
          "output_type": "execute_result",
          "data": {
            "text/plain": [
              "array([0.25 , 0.5  , 0.625])"
            ]
          },
          "metadata": {
            "tags": []
          },
          "execution_count": 9
        }
      ]
    },
    {
      "cell_type": "code",
      "metadata": {
        "id": "liihWxmTB9Ca",
        "colab_type": "code",
        "colab": {
          "base_uri": "https://localhost:8080/",
          "height": 35
        },
        "outputId": "afc56e71-61a2-4920-83b1-5c703355791c"
      },
      "source": [
        "x / 2"
      ],
      "execution_count": 10,
      "outputs": [
        {
          "output_type": "execute_result",
          "data": {
            "text/plain": [
              "array([0.5, 1.5, 2.5])"
            ]
          },
          "metadata": {
            "tags": []
          },
          "execution_count": 10
        }
      ]
    },
    {
      "cell_type": "markdown",
      "metadata": {
        "id": "D_H4p9QOCFxE",
        "colab_type": "text"
      },
      "source": [
        "#1.72 Numpy의 N차원 배열\n",
        "* 1 차원 배열 뿐만 아니라 2 차원 배열(행렬), 다차원 배열도 작성 가능"
      ]
    },
    {
      "cell_type": "code",
      "metadata": {
        "id": "6dwABZ-ICWG9",
        "colab_type": "code",
        "colab": {
          "base_uri": "https://localhost:8080/",
          "height": 70
        },
        "outputId": "5b8db872-8e93-4624-9f72-de16d202b1b6"
      },
      "source": [
        "A = np.array([[1,3],[2,4]])       # 행렬 생성\n",
        "print(A)\n",
        "\n",
        "A.shape                           # 행렬 타입 찾는법 (2*2 Matrix)"
      ],
      "execution_count": 15,
      "outputs": [
        {
          "output_type": "stream",
          "text": [
            "[[1 3]\n",
            " [2 4]]\n"
          ],
          "name": "stdout"
        },
        {
          "output_type": "execute_result",
          "data": {
            "text/plain": [
              "(2, 2)"
            ]
          },
          "metadata": {
            "tags": []
          },
          "execution_count": 15
        }
      ]
    },
    {
      "cell_type": "code",
      "metadata": {
        "id": "EMF9HJYrC_G8",
        "colab_type": "code",
        "colab": {
          "base_uri": "https://localhost:8080/",
          "height": 35
        },
        "outputId": "cebc0848-eaec-46cf-c4bb-b59816d5cd6a"
      },
      "source": [
        "A.dtype                          # A 행렬의 자료형 출력 (int64 / 정수형)"
      ],
      "execution_count": 16,
      "outputs": [
        {
          "output_type": "execute_result",
          "data": {
            "text/plain": [
              "dtype('int64')"
            ]
          },
          "metadata": {
            "tags": []
          },
          "execution_count": 16
        }
      ]
    },
    {
      "cell_type": "code",
      "metadata": {
        "id": "VjdwJiA0DSPw",
        "colab_type": "code",
        "colab": {
          "base_uri": "https://localhost:8080/",
          "height": 52
        },
        "outputId": "a4cbd06d-b90b-4565-ea8b-d0eb83872a1c"
      },
      "source": [
        "B = np.array ([[2,1],[3,5]])    # B 행렬 생성\n",
        "A + B                           # matrix addition"
      ],
      "execution_count": 17,
      "outputs": [
        {
          "output_type": "execute_result",
          "data": {
            "text/plain": [
              "array([[3, 4],\n",
              "       [5, 9]])"
            ]
          },
          "metadata": {
            "tags": []
          },
          "execution_count": 17
        }
      ]
    },
    {
      "cell_type": "code",
      "metadata": {
        "id": "KEmO7xHID0JA",
        "colab_type": "code",
        "colab": {
          "base_uri": "https://localhost:8080/",
          "height": 52
        },
        "outputId": "52bc487f-d7c8-444e-c63f-2601dd1b8c83"
      },
      "source": [
        "A * B                           # matrix multiplication"
      ],
      "execution_count": 18,
      "outputs": [
        {
          "output_type": "execute_result",
          "data": {
            "text/plain": [
              "array([[ 2,  3],\n",
              "       [ 6, 20]])"
            ]
          },
          "metadata": {
            "tags": []
          },
          "execution_count": 18
        }
      ]
    },
    {
      "cell_type": "markdown",
      "metadata": {
        "id": "Ntp-w7pyEGSi",
        "colab_type": "text"
      },
      "source": [
        "* 수학에서 1차원 배열은 vector, 2차원 배열은 행렬이라 부르고, 또 vector와 matrix를 일반화한 것을 Tensor라고 한다."
      ]
    },
    {
      "cell_type": "code",
      "metadata": {
        "id": "K25f5EifGNfH",
        "colab_type": "code",
        "colab": {
          "base_uri": "https://localhost:8080/",
          "height": 88
        },
        "outputId": "33a081df-e3c1-475f-f9b3-7bcd8a88e10b"
      },
      "source": [
        "print(A)\n",
        "\n",
        "A * 10"
      ],
      "execution_count": 19,
      "outputs": [
        {
          "output_type": "stream",
          "text": [
            "[[1 3]\n",
            " [2 4]]\n"
          ],
          "name": "stdout"
        },
        {
          "output_type": "execute_result",
          "data": {
            "text/plain": [
              "array([[10, 30],\n",
              "       [20, 40]])"
            ]
          },
          "metadata": {
            "tags": []
          },
          "execution_count": 19
        }
      ]
    },
    {
      "cell_type": "markdown",
      "metadata": {
        "id": "N9cioyOSGhAi",
        "colab_type": "text"
      },
      "source": [
        "# 1.73 브로드캐스트\n",
        "\n",
        "* Numpy에서 의 브로드캐스트 / Numpy Broadcasting\n",
        "\n",
        "![대체 텍스트](https://www.astroml.org/_images/fig_broadcast_visual_1.png)\n",
        "\n",
        "* 실제 선형대수에서의 브로트캐스트\n",
        "\n",
        "![대체 텍스트](https://www.mathsisfun.com/algebra/images/matrix-multiply-ex1b.gif)\n",
        "\n",
        "> 형상이 다른 배열끼리도 계산이 가능한 것을 Numpy에서는 broadcasting 기능이라 함.\n",
        "> ex) [[1,2,3,4],[2,3,4,5]] + [1,2]   \n",
        "> 2 by 4 matrix + 1 by 2 matrix"
      ]
    },
    {
      "cell_type": "code",
      "metadata": {
        "id": "VgkoMBpPaEGU",
        "colab_type": "code",
        "colab": {
          "base_uri": "https://localhost:8080/",
          "height": 52
        },
        "outputId": "9f656f1b-f230-407b-cd6c-4c38c7bf95d8"
      },
      "source": [
        "A = np.array([[2,4],[6,8]])\n",
        "B = np.array([10,20])\n",
        "\n",
        "A * B"
      ],
      "execution_count": 20,
      "outputs": [
        {
          "output_type": "execute_result",
          "data": {
            "text/plain": [
              "array([[ 20,  80],\n",
              "       [ 60, 160]])"
            ]
          },
          "metadata": {
            "tags": []
          },
          "execution_count": 20
        }
      ]
    },
    {
      "cell_type": "markdown",
      "metadata": {
        "id": "m6YNZHqmacER",
        "colab_type": "text"
      },
      "source": [
        "# 1.74 원소 접근"
      ]
    },
    {
      "cell_type": "code",
      "metadata": {
        "id": "6A5AaJw5ahgO",
        "colab_type": "code",
        "colab": {
          "base_uri": "https://localhost:8080/",
          "height": 88
        },
        "outputId": "c9a90cb6-6943-430b-fcd0-afc2560ac0cb"
      },
      "source": [
        "X = np.array([[51,55], [14,19],[0,4]])\n",
        "print(X)\n",
        "\n",
        "X[0]                                        # 0행"
      ],
      "execution_count": 37,
      "outputs": [
        {
          "output_type": "stream",
          "text": [
            "[[51 55]\n",
            " [14 19]\n",
            " [ 0  4]]\n"
          ],
          "name": "stdout"
        },
        {
          "output_type": "execute_result",
          "data": {
            "text/plain": [
              "array([51, 55])"
            ]
          },
          "metadata": {
            "tags": []
          },
          "execution_count": 37
        }
      ]
    },
    {
      "cell_type": "code",
      "metadata": {
        "id": "NaBxV7zdb7db",
        "colab_type": "code",
        "colab": {
          "base_uri": "https://localhost:8080/",
          "height": 35
        },
        "outputId": "aae7d06a-fc68-4ed7-aa0d-a4a860403525"
      },
      "source": [
        "X[0][1]                                     # (0,1) 위치의 원소에 접근"
      ],
      "execution_count": 38,
      "outputs": [
        {
          "output_type": "execute_result",
          "data": {
            "text/plain": [
              "55"
            ]
          },
          "metadata": {
            "tags": []
          },
          "execution_count": 38
        }
      ]
    },
    {
      "cell_type": "code",
      "metadata": {
        "id": "Pn2RaFzNcxxC",
        "colab_type": "code",
        "colab": {
          "base_uri": "https://localhost:8080/",
          "height": 124
        },
        "outputId": "68a21d8f-b4e9-4aa3-dbd5-d19edf7b6b44"
      },
      "source": [
        "for row in X:                               # for(반복문으로 구현 가능) \n",
        "  print(row)"
      ],
      "execution_count": 45,
      "outputs": [
        {
          "output_type": "stream",
          "text": [
            "51\n",
            "55\n",
            "14\n",
            "19\n",
            "0\n",
            "4\n"
          ],
          "name": "stdout"
        }
      ]
    },
    {
      "cell_type": "code",
      "metadata": {
        "id": "DQAUOHntc2lo",
        "colab_type": "code",
        "colab": {
          "base_uri": "https://localhost:8080/",
          "height": 52
        },
        "outputId": "3ca2dedc-bd28-4b60-a99f-02d7c7a837c0"
      },
      "source": [
        "X = X.flatten()                             # X를 1차원 배열로 변환(평탄화)\n",
        "print(X)\n",
        "\n",
        "X[np.array([0,2,4])]                        # 인덱스가 0,2,4인 원소 얻기"
      ],
      "execution_count": 44,
      "outputs": [
        {
          "output_type": "stream",
          "text": [
            "[51 55 14 19  0  4]\n"
          ],
          "name": "stdout"
        },
        {
          "output_type": "execute_result",
          "data": {
            "text/plain": [
              "array([51, 14,  0])"
            ]
          },
          "metadata": {
            "tags": []
          },
          "execution_count": 44
        }
      ]
    }
  ]
}