{
  "nbformat": 4,
  "nbformat_minor": 0,
  "metadata": {
    "colab": {
      "name": "ch1_numpy.ipynb",
      "provenance": []
    },
    "kernelspec": {
      "name": "python3",
      "display_name": "Python 3"
    }
  },
  "cells": [
    {
      "cell_type": "markdown",
      "metadata": {
        "id": "XfiWOKxq9Ow9",
        "colab_type": "text"
      },
      "source": [
        "![대체 텍스트](https://aster.cloud/wp-content/uploads/2019/10/numpy-install-cover.jpg)\n",
        "\n",
        "![대체 텍스트](https://www.w3resource.com/w3r_images/numpy-1d2d3d-array.png)\n",
        "\n",
        "# 1.7 Numpy\n",
        "> 배열이나 행렬 연산을 할때 쓰이는 파이썬의 라이브러리\n",
        "\n",
        "---\n",
        "> library for the Python programming language, adding support for large, multi-dimensional arrays and matrices, along with a large collection of high-level mathematical functions to operate on these arrays. (reference: wiki)\n"
      ]
    },
    {
      "cell_type": "code",
      "metadata": {
        "id": "q36k16Eg8jVK",
        "colab_type": "code",
        "colab": {
          "base_uri": "https://localhost:8080/",
          "height": 52
        },
        "outputId": "faa91c96-2221-4809-adaf-0f786c634a21"
      },
      "source": [
        "import numpy as np                     # Numpy는 \"외부 라이브러리\" 이기 때문에 기능을 쓰려면 import를 먼저해야 한다. numpy를 np라는 이름을 통해 가져오라 선언하면 앞으로 넘파이가 제공하는 메서드는 np를 통해 참조 가능\n",
        "\n",
        "x = np.array([1.0, 2.0, 4.0])        # np.array는 파이썬 list를 인수로 받아 numpy 라이브러리가 제공하는 특수한 형태의 배열(numpy.ndarray)을 반환\n",
        "print(x)                 \n",
        "\n",
        "type(x)"
      ],
      "execution_count": 3,
      "outputs": [
        {
          "output_type": "stream",
          "text": [
            "[1. 2. 4.]\n"
          ],
          "name": "stdout"
        },
        {
          "output_type": "execute_result",
          "data": {
            "text/plain": [
              "numpy.ndarray"
            ]
          },
          "metadata": {
            "tags": []
          },
          "execution_count": 3
        }
      ]
    },
    {
      "cell_type": "markdown",
      "metadata": {
        "id": "6qkJfned_tlI",
        "colab_type": "text"
      },
      "source": [
        "# 1.71 Numpy의 산술연산\n",
        "\n",
        "* 이 예제에서는 배열 x와 y의 원소 값이 똑같다. (원소 3개를 가지는 1차원 배열)\n",
        "* 원소 수가 다르면 오류가 발생\n",
        "* 원소별 = element-wise / 원소별 곱셉 = element-wise product\n",
        "* Numpy는 원소별 계산만 아니라 numpy 배열과 수치 하나(스칼라값)의 조합으로 된 산술 연산도 가능"
      ]
    },
    {
      "cell_type": "code",
      "metadata": {
        "id": "pTgEDImYAgQa",
        "colab_type": "code",
        "colab": {
          "base_uri": "https://localhost:8080/",
          "height": 35
        },
        "outputId": "c53c3066-083e-45c2-bf34-d41cc088cfa8"
      },
      "source": [
        " x = np.array([1,3,5])\n",
        " y = np.array([4,6,8])\n",
        "\n",
        " x + y                       # element-wise addition\n"
      ],
      "execution_count": 6,
      "outputs": [
        {
          "output_type": "execute_result",
          "data": {
            "text/plain": [
              "array([ 5,  9, 13])"
            ]
          },
          "metadata": {
            "tags": []
          },
          "execution_count": 6
        }
      ]
    },
    {
      "cell_type": "code",
      "metadata": {
        "id": "mhJRr4hHBVMK",
        "colab_type": "code",
        "colab": {
          "base_uri": "https://localhost:8080/",
          "height": 35
        },
        "outputId": "7a3b4a9d-30f8-44b7-8c39-a39a0aaac29b"
      },
      "source": [
        " x - y                       # element-wise subtaction"
      ],
      "execution_count": 7,
      "outputs": [
        {
          "output_type": "execute_result",
          "data": {
            "text/plain": [
              "array([-3, -3, -3])"
            ]
          },
          "metadata": {
            "tags": []
          },
          "execution_count": 7
        }
      ]
    },
    {
      "cell_type": "code",
      "metadata": {
        "id": "ZUKD3BmyBXR4",
        "colab_type": "code",
        "colab": {
          "base_uri": "https://localhost:8080/",
          "height": 35
        },
        "outputId": "7ab22801-0dbd-4f28-8035-b83e40d1d0ed"
      },
      "source": [
        "x * y                        # element-wise product"
      ],
      "execution_count": 8,
      "outputs": [
        {
          "output_type": "execute_result",
          "data": {
            "text/plain": [
              "array([ 4, 18, 40])"
            ]
          },
          "metadata": {
            "tags": []
          },
          "execution_count": 8
        }
      ]
    },
    {
      "cell_type": "code",
      "metadata": {
        "id": "u3DtwQ8VBgKH",
        "colab_type": "code",
        "colab": {
          "base_uri": "https://localhost:8080/",
          "height": 35
        },
        "outputId": "66d05b44-33a8-4ecc-9eb9-d36cbf902aa8"
      },
      "source": [
        "x / y                        # element-wise divsion"
      ],
      "execution_count": 9,
      "outputs": [
        {
          "output_type": "execute_result",
          "data": {
            "text/plain": [
              "array([0.25 , 0.5  , 0.625])"
            ]
          },
          "metadata": {
            "tags": []
          },
          "execution_count": 9
        }
      ]
    },
    {
      "cell_type": "code",
      "metadata": {
        "id": "liihWxmTB9Ca",
        "colab_type": "code",
        "colab": {
          "base_uri": "https://localhost:8080/",
          "height": 35
        },
        "outputId": "afc56e71-61a2-4920-83b1-5c703355791c"
      },
      "source": [
        "x / 2"
      ],
      "execution_count": 10,
      "outputs": [
        {
          "output_type": "execute_result",
          "data": {
            "text/plain": [
              "array([0.5, 1.5, 2.5])"
            ]
          },
          "metadata": {
            "tags": []
          },
          "execution_count": 10
        }
      ]
    },
    {
      "cell_type": "markdown",
      "metadata": {
        "id": "D_H4p9QOCFxE",
        "colab_type": "text"
      },
      "source": [
        "#1.72 Numpy의 N차원 배열\n",
        "* 1 차원 배열 뿐만 아니라 2 차원 배열(행렬), 다차원 배열도 작성 가능"
      ]
    },
    {
      "cell_type": "code",
      "metadata": {
        "id": "6dwABZ-ICWG9",
        "colab_type": "code",
        "colab": {
          "base_uri": "https://localhost:8080/",
          "height": 70
        },
        "outputId": "5b8db872-8e93-4624-9f72-de16d202b1b6"
      },
      "source": [
        "A = np.array([[1,3],[2,4]])       # 행렬 생성\n",
        "print(A)\n",
        "\n",
        "A.shape                           # 행렬 타입 찾는법 (2*2 Matrix)"
      ],
      "execution_count": 15,
      "outputs": [
        {
          "output_type": "stream",
          "text": [
            "[[1 3]\n",
            " [2 4]]\n"
          ],
          "name": "stdout"
        },
        {
          "output_type": "execute_result",
          "data": {
            "text/plain": [
              "(2, 2)"
            ]
          },
          "metadata": {
            "tags": []
          },
          "execution_count": 15
        }
      ]
    },
    {
      "cell_type": "code",
      "metadata": {
        "id": "EMF9HJYrC_G8",
        "colab_type": "code",
        "colab": {
          "base_uri": "https://localhost:8080/",
          "height": 35
        },
        "outputId": "cebc0848-eaec-46cf-c4bb-b59816d5cd6a"
      },
      "source": [
        "A.dtype                          # A 행렬의 자료형 출력 (int64 / 정수형)"
      ],
      "execution_count": 16,
      "outputs": [
        {
          "output_type": "execute_result",
          "data": {
            "text/plain": [
              "dtype('int64')"
            ]
          },
          "metadata": {
            "tags": []
          },
          "execution_count": 16
        }
      ]
    },
    {
      "cell_type": "code",
      "metadata": {
        "id": "VjdwJiA0DSPw",
        "colab_type": "code",
        "colab": {
          "base_uri": "https://localhost:8080/",
          "height": 52
        },
        "outputId": "a4cbd06d-b90b-4565-ea8b-d0eb83872a1c"
      },
      "source": [
        "B = np.array ([[2,1],[3,5]])    # B 행렬 생성\n",
        "A + B                           # matrix addition"
      ],
      "execution_count": 17,
      "outputs": [
        {
          "output_type": "execute_result",
          "data": {
            "text/plain": [
              "array([[3, 4],\n",
              "       [5, 9]])"
            ]
          },
          "metadata": {
            "tags": []
          },
          "execution_count": 17
        }
      ]
    },
    {
      "cell_type": "code",
      "metadata": {
        "id": "KEmO7xHID0JA",
        "colab_type": "code",
        "colab": {
          "base_uri": "https://localhost:8080/",
          "height": 52
        },
        "outputId": "52bc487f-d7c8-444e-c63f-2601dd1b8c83"
      },
      "source": [
        "A * B                           # matrix multiplication"
      ],
      "execution_count": 18,
      "outputs": [
        {
          "output_type": "execute_result",
          "data": {
            "text/plain": [
              "array([[ 2,  3],\n",
              "       [ 6, 20]])"
            ]
          },
          "metadata": {
            "tags": []
          },
          "execution_count": 18
        }
      ]
    },
    {
      "cell_type": "markdown",
      "metadata": {
        "id": "Ntp-w7pyEGSi",
        "colab_type": "text"
      },
      "source": [
        "* 수학에서 1차원 배열은 vector, 2차원 배열은 행렬이라 부르고, 또 vector와 matrix를 일반화한 것을 Tensor라고 한다."
      ]
    },
    {
      "cell_type": "code",
      "metadata": {
        "id": "K25f5EifGNfH",
        "colab_type": "code",
        "colab": {
          "base_uri": "https://localhost:8080/",
          "height": 88
        },
        "outputId": "33a081df-e3c1-475f-f9b3-7bcd8a88e10b"
      },
      "source": [
        "print(A)\n",
        "\n",
        "A * 10"
      ],
      "execution_count": 19,
      "outputs": [
        {
          "output_type": "stream",
          "text": [
            "[[1 3]\n",
            " [2 4]]\n"
          ],
          "name": "stdout"
        },
        {
          "output_type": "execute_result",
          "data": {
            "text/plain": [
              "array([[10, 30],\n",
              "       [20, 40]])"
            ]
          },
          "metadata": {
            "tags": []
          },
          "execution_count": 19
        }
      ]
    },
    {
      "cell_type": "markdown",
      "metadata": {
        "id": "N9cioyOSGhAi",
        "colab_type": "text"
      },
      "source": [
        "# 1.73 브로드캐스트\n",
        "\n",
        "* Numpy에서 의 브로드캐스트 / Numpy Broadcasting\n",
        "\n",
        "![대체 텍스트](https://www.astroml.org/_images/fig_broadcast_visual_1.png)\n",
        "\n",
        "* 실제 선형대수에서의 브로트캐스트\n",
        "\n",
        "![대체 텍스트](https://www.mathsisfun.com/algebra/images/matrix-multiply-ex1b.gif)\n",
        "\n",
        "> 형상이 다른 배열끼리도 계산이 가능한 것을 Numpy에서는 broadcasting 기능이라 함.\n",
        "> ex) [[1,2,3,4],[2,3,4,5]] + [1,2]   \n",
        "> 2 by 4 matrix + 1 by 2 matrix"
      ]
    },
    {
      "cell_type": "code",
      "metadata": {
        "id": "VgkoMBpPaEGU",
        "colab_type": "code",
        "colab": {
          "base_uri": "https://localhost:8080/",
          "height": 52
        },
        "outputId": "9f656f1b-f230-407b-cd6c-4c38c7bf95d8"
      },
      "source": [
        "A = np.array([[2,4],[6,8]])\n",
        "B = np.array([10,20])\n",
        "\n",
        "A * B"
      ],
      "execution_count": 20,
      "outputs": [
        {
          "output_type": "execute_result",
          "data": {
            "text/plain": [
              "array([[ 20,  80],\n",
              "       [ 60, 160]])"
            ]
          },
          "metadata": {
            "tags": []
          },
          "execution_count": 20
        }
      ]
    },
    {
      "cell_type": "markdown",
      "metadata": {
        "id": "m6YNZHqmacER",
        "colab_type": "text"
      },
      "source": [
        "# 1.74 원소 접근"
      ]
    },
    {
      "cell_type": "code",
      "metadata": {
        "id": "6A5AaJw5ahgO",
        "colab_type": "code",
        "colab": {
          "base_uri": "https://localhost:8080/",
          "height": 88
        },
        "outputId": "c9a90cb6-6943-430b-fcd0-afc2560ac0cb"
      },
      "source": [
        "X = np.array([[51,55], [14,19],[0,4]])\n",
        "print(X)\n",
        "\n",
        "X[0]                                        # 0행"
      ],
      "execution_count": 37,
      "outputs": [
        {
          "output_type": "stream",
          "text": [
            "[[51 55]\n",
            " [14 19]\n",
            " [ 0  4]]\n"
          ],
          "name": "stdout"
        },
        {
          "output_type": "execute_result",
          "data": {
            "text/plain": [
              "array([51, 55])"
            ]
          },
          "metadata": {
            "tags": []
          },
          "execution_count": 37
        }
      ]
    },
    {
      "cell_type": "code",
      "metadata": {
        "id": "NaBxV7zdb7db",
        "colab_type": "code",
        "colab": {
          "base_uri": "https://localhost:8080/",
          "height": 35
        },
        "outputId": "aae7d06a-fc68-4ed7-aa0d-a4a860403525"
      },
      "source": [
        "X[0][1]                                     # (0,1) 위치의 원소에 접근"
      ],
      "execution_count": 38,
      "outputs": [
        {
          "output_type": "execute_result",
          "data": {
            "text/plain": [
              "55"
            ]
          },
          "metadata": {
            "tags": []
          },
          "execution_count": 38
        }
      ]
    },
    {
      "cell_type": "code",
      "metadata": {
        "id": "Pn2RaFzNcxxC",
        "colab_type": "code",
        "colab": {
          "base_uri": "https://localhost:8080/",
          "height": 124
        },
        "outputId": "68a21d8f-b4e9-4aa3-dbd5-d19edf7b6b44"
      },
      "source": [
        "for row in X:                               # for(반복문으로 구현 가능) \n",
        "  print(row)"
      ],
      "execution_count": 45,
      "outputs": [
        {
          "output_type": "stream",
          "text": [
            "51\n",
            "55\n",
            "14\n",
            "19\n",
            "0\n",
            "4\n"
          ],
          "name": "stdout"
        }
      ]
    },
    {
      "cell_type": "code",
      "metadata": {
        "id": "DQAUOHntc2lo",
        "colab_type": "code",
        "colab": {
          "base_uri": "https://localhost:8080/",
          "height": 52
        },
        "outputId": "3ca2dedc-bd28-4b60-a99f-02d7c7a837c0"
      },
      "source": [
        "X = X.flatten()                             # X를 1차원 배열로 변환(평탄화)\n",
        "print(X)\n",
        "\n",
        "X[np.array([0,2,4])]                        # 인덱스가 0,2,4인 원소 얻기"
      ],
      "execution_count": 44,
      "outputs": [
        {
          "output_type": "stream",
          "text": [
            "[51 55 14 19  0  4]\n"
          ],
          "name": "stdout"
        },
        {
          "output_type": "execute_result",
          "data": {
            "text/plain": [
              "array([51, 14,  0])"
            ]
          },
          "metadata": {
            "tags": []
          },
          "execution_count": 44
        }
      ]
    }
  ]
}
