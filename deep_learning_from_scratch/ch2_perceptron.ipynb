{
  "nbformat": 4,
  "nbformat_minor": 0,
  "metadata": {
    "colab": {
      "name": "ch2_perceptron.ipynb",
      "provenance": []
    },
    "kernelspec": {
      "name": "python3",
      "display_name": "Python 3"
    },
    "accelerator": "GPU"
  },
  "cells": [
    {
      "cell_type": "markdown",
      "metadata": {
        "id": "ybfUM7TG2zkd",
        "colab_type": "text"
      },
      "source": [
        "# **Chapter 2 퍼셉트론 (Perceptron)**\n",
        "\n",
        "> 퍼셉트론은 다수의 신호를 입력으로 받아 하나의 신호를 출력\n",
        "\n",
        "> ex) 전류의 전자가 전선을 타고 흐르는 전자를 내보는 것\n",
        "\n",
        ">  퍼셉트론 신호도 흐름을 만들고 정보를 앞으로 전달, 실제 전류와 다르게 신호는 흐른다(1), 안흐른다(0)의 2가지 값으로 출력 \n",
        "\n",
        "![대체 텍스트](https://i.stack.imgur.com/8mNKV.png)\n",
        "\n",
        "* input값이 2개인 Perceptron\n",
        "> a) x1, x2는 입력신호, y는 출력신호, w1, w2는 가중치(weight)를 뜻함, 그림에 있는 원은 뉴련 or 노드를 의미\n",
        "\n",
        " > b) 입력신호가 뉴런에 보내질 때는 각각 고유한 weight가 곱해짐(x1,w1 / x2,w2) \n",
        "\n",
        " > c) 뉴런에서 보내온 신호의 총합이 정해진 한계를 넘어설 때만 1을 출력(이를 뉴런을 활성화한다고 표현)\n",
        "\n",
        "  > d) 위에서 말한 한계를 **임계값** 이라고 하며, **Ѳ** (theta,쎄타) 기호로 표현 \n",
        "\n",
        "\n",
        "\n",
        "\n",
        "---\n",
        "\n",
        "\n",
        "\n",
        "  ![대체 텍스트](https://miro.medium.com/max/1518/1*SzzZhOB-xHyOchebT9Fv7w.png)\n",
        "\n",
        "\n",
        "* Perceptron을 수식으로 나타내면 위에 오른쪽 그림과 같음.\n",
        " > Perceptron은 복수의 입력 신호 각각에 고유한 가중치를 부여, 가중치는 각 신호가 결과에 영향을 조절하는 요소로 작요\n",
        "\n",
        "  > (**즉 가중치가 클수록 해당신호가 그만큼 더 중요함을 의미**)"
      ]
    },
    {
      "cell_type": "markdown",
      "metadata": {
        "id": "jAEeocpNoG_t",
        "colab_type": "text"
      },
      "source": [
        "# 2.1 논리 회로 (Logic gate) \n",
        "\n",
        "![대체 텍스트](https://www.researchgate.net/profile/Seth_Abels/publication/291418819/figure/fig3/AS:718510820962304@1548317737478/Summary-of-the-common-Boolean-logic-gates-with-symbols-and-truth-tables.png)\n",
        "\n",
        "\n",
        "입력 신호(input)와 출력 신호의 대응표를 **진리표(logic gate)**라고 불름\n",
        "\n",
        "-----\n",
        "\n",
        "\n",
        "\n",
        "1) AND gate는 입력이 둘이고 출력이 하나, 두 입력이 모두 1일 때만 1을 출력, 그외에는 0을 출력\n",
        "\n",
        "2) NAND gate는 Not AND를 의미하며, 동작은 AND gate 출력을 뒤집은 것과 같음\n",
        "x1,x2가 모두 1일때만 0을 출력, 그 외에는 1을 출력\n",
        "\n",
        "3) OR gate는 입력 신호 중 하나 이상 1이면 출력이 1이 되는 논리 회로이다.\n",
        "\n",
        "-----\n",
        "\n",
        "* Perceptron의 구조는 AND, NAND, OR gate 모두에서 똑같다. 3가지 gate에서 다른 것은 매개변수(weight- 가중치, theta- 임계값)의 값 뿐이다. \n",
        "\n",
        "* Perceptron의 매개변수 값을 정하는 것은 컴퓨터가 아니라 인간이 직접 진리표(logic gate)라는 '학습 데이터'를 보면서 매개변수의 값을 생각함. \n",
        "\n",
        "* 기계학습 문제는 이 매개변수의 값을 정하는 작업을 컴퓨터가 자동으로 하도록 한다. **학습**이란 매개변수 값을 정하는 작업이며, 사람은 Perceptron의 구조(모델)을 고민하고 컴퓨터에 학습할 데이터를 주는 일을 한다."
      ]
    },
    {
      "cell_type": "markdown",
      "metadata": {
        "id": "Or75yuct3MfJ",
        "colab_type": "text"
      },
      "source": [
        "# 2.2 Perceptron 구현"
      ]
    },
    {
      "cell_type": "code",
      "metadata": {
        "id": "RFtVHgj_xdFy",
        "colab_type": "code",
        "colab": {}
      },
      "source": [
        "def AND(x1, x2):                           # 논리회로를 AND라는 함수로 함수화(use def) / (x1, x2)를 인수로 받음 \n",
        "  w1, w2, theta = 0.5, 0.6, 0.7            # 매개변수 w1, w2, theta는 함수 안에서 초기화\n",
        "  tmp = x1 * w1 + x2 * w2                  \n",
        "  if tmp <= theta:                         # 가중치를 곱한 입력의 총합이 임계값을 넘으면 1을 반환하고 그외에는 0을 반환 \n",
        "    return 0 \n",
        "  elif tmp > theta:\n",
        "    return 1\n",
        "\n",
        "AND (1,0)                                  # 0을 출력"
      ],
      "execution_count": 0,
      "outputs": []
    },
    {
      "cell_type": "code",
      "metadata": {
        "id": "LIzSdMbE39eP",
        "colab_type": "code",
        "colab": {}
      },
      "source": [
        "AND (1,1)                                  # 1을 출력"
      ],
      "execution_count": 0,
      "outputs": []
    },
    {
      "cell_type": "markdown",
      "metadata": {
        "id": "i5sH-nWo-Y8F",
        "colab_type": "text"
      },
      "source": [
        "# 2.3 가중치와 편향 도입 , 구현\n",
        "\n",
        "![대체 텍스트](https://img1.daumcdn.net/thumb/R720x0.q80/?scode=mtistory2&fname=http%3A%2F%2Fcfile21.uf.tistory.com%2Fimage%2F99B057465A65F39704FCB7)\n",
        "\n",
        "* 위의 사진에서 b는 bias(편향)이라 하며 w1, w2는 가중치(weight)을 의미\n",
        "\n",
        "* Perceptron은 입력신호에 가중치를 곱한 값과 편향을 합하여, 그 값이 0을 넘으면 1을 출력하고 그렇지 않으면 0을 출력\n"
      ]
    },
    {
      "cell_type": "code",
      "metadata": {
        "id": "z2NJZBYJ-Ykq",
        "colab_type": "code",
        "colab": {}
      },
      "source": [
        "import numpy as np\n",
        "x = np.array([0,1])                         # input\n",
        "w = np.array([0.5, 0.5])                    # weight\n",
        "b = -0.7                                    # bias\n",
        "\n",
        "w * x"
      ],
      "execution_count": 0,
      "outputs": []
    },
    {
      "cell_type": "code",
      "metadata": {
        "id": "ml7WqpUf-x89",
        "colab_type": "code",
        "colab": {}
      },
      "source": [
        "np.sum(w*x)                                      # Numpy 배열끼리의 곱셈은 2 배열의 원소 수가 같다면 각 원소끼리 곱한다. 예의 w*x에서는 인덱스가 같은 원소끼리 곱함, 또 np.sum() 메서드는 입력한 배열에 담긴 모든 원소의 총합을 계산"
      ],
      "execution_count": 0,
      "outputs": []
    },
    {
      "cell_type": "code",
      "metadata": {
        "id": "oN1KtxjA-1Oj",
        "colab_type": "code",
        "colab": {}
      },
      "source": [
        "np.sum(w*x) + b                            # 부동소수점(float)에 의한 연산 오차, 반올림해서 -0.2"
      ],
      "execution_count": 0,
      "outputs": []
    },
    {
      "cell_type": "code",
      "metadata": {
        "id": "5Oq4XutcE75v",
        "colab_type": "code",
        "colab": {}
      },
      "source": [
        "# AND Gate\n",
        "def AND2(x1,x2):\n",
        "  x = np.array([x1, x2])                        \n",
        "  w = np.array([0.5, 0.5])                   \n",
        "  b = -0.7                                   \n",
        "  tmp = np.sum(w*x) + b\n",
        "  if tmp <= 0:\n",
        "    return 0\n",
        "  else:\n",
        "    return 1\n",
        "\n",
        "AND2 (1,1)    "
      ],
      "execution_count": 0,
      "outputs": []
    },
    {
      "cell_type": "code",
      "metadata": {
        "id": "DGgkv90fGH1Z",
        "colab_type": "code",
        "colab": {}
      },
      "source": [
        "AND2(0,0)"
      ],
      "execution_count": 0,
      "outputs": []
    },
    {
      "cell_type": "code",
      "metadata": {
        "id": "lYCd1FCHGKCh",
        "colab_type": "code",
        "colab": {}
      },
      "source": [
        "AND2(1,0)"
      ],
      "execution_count": 0,
      "outputs": []
    },
    {
      "cell_type": "code",
      "metadata": {
        "id": "YMrWcl8RGTOt",
        "colab_type": "code",
        "colab": {}
      },
      "source": [
        "# NAND Gate\n",
        "\n",
        "def NAND(x1,x2):\n",
        "  x = np.array([x1, x2])                        \n",
        "  w = np.array([-0.5, -0.5])                             # AND와는 가중치(w와 b)만 다름                   \n",
        "  b = 0.7                                   \n",
        "  tmp = np.sum(w*x) + b\n",
        "  if tmp <= 0:\n",
        "    return 0\n",
        "  else:\n",
        "    return 1\n",
        "\n",
        "NAND (1,1)    "
      ],
      "execution_count": 0,
      "outputs": []
    },
    {
      "cell_type": "markdown",
      "metadata": {
        "id": "jaHXfdRdqAqo",
        "colab_type": "text"
      },
      "source": [
        "* w1, w2는 각 입력 신호가 결과에 주는 영향력(중요도)를 조절하는 매개변수고, 편향은 neuron이 얼마나 쉽게 활성화(결과로 1을 출력) 하느냐를 조정하는 매개변수임\n",
        "\n",
        "* 예를 들어 b가 -0.1이면 각 입력 신호에 가중치를 곱한 값들의 합이 20.0을 넘지 않으면 neuron은 활성화되지 않음.\n",
        "\n",
        "* 이처럼 편항(bias)의 값은 neuron이 얼마나 쉽게 활성화되는지를 결정"
      ]
    },
    {
      "cell_type": "code",
      "metadata": {
        "id": "3zkmtEe5HZ3S",
        "colab_type": "code",
        "colab": {}
      },
      "source": [
        "NAND(0,0)"
      ],
      "execution_count": 0,
      "outputs": []
    },
    {
      "cell_type": "code",
      "metadata": {
        "id": "-f6W62bYHcFM",
        "colab_type": "code",
        "colab": {}
      },
      "source": [
        "NAND(1,0)"
      ],
      "execution_count": 0,
      "outputs": []
    },
    {
      "cell_type": "code",
      "metadata": {
        "id": "OyoBIr-FHh4p",
        "colab_type": "code",
        "colab": {}
      },
      "source": [
        "NAND(0,1)"
      ],
      "execution_count": 0,
      "outputs": []
    },
    {
      "cell_type": "code",
      "metadata": {
        "id": "ytTpMsLOkKeR",
        "colab_type": "code",
        "colab": {}
      },
      "source": [
        "# OR Gate\n",
        "\n",
        "def OR(x1,x2):\n",
        "  x = np.array([x1, x2])                        \n",
        "  w = np.array([0.5, 0.5])                             # AND와는 가중치(w와 b)만 다르름                   \n",
        "  b = -0.2                                   \n",
        "  tmp = np.sum(w*x) + b\n",
        "  if tmp <= 0:\n",
        "    return 0\n",
        "  else:\n",
        "    return 1\n",
        "\n",
        "OR(0,0)"
      ],
      "execution_count": 0,
      "outputs": []
    },
    {
      "cell_type": "code",
      "metadata": {
        "id": "SY3AK-8JlNcc",
        "colab_type": "code",
        "colab": {}
      },
      "source": [
        "OR(1,1)"
      ],
      "execution_count": 0,
      "outputs": []
    },
    {
      "cell_type": "code",
      "metadata": {
        "id": "6hQ4eK3AlPp9",
        "colab_type": "code",
        "colab": {}
      },
      "source": [
        "OR(0,1)"
      ],
      "execution_count": 0,
      "outputs": []
    },
    {
      "cell_type": "code",
      "metadata": {
        "id": "7NRxnesolSD9",
        "colab_type": "code",
        "colab": {}
      },
      "source": [
        "OR(1,0)"
      ],
      "execution_count": 0,
      "outputs": []
    },
    {
      "cell_type": "markdown",
      "metadata": {
        "id": "mzT4FwESnqNW",
        "colab_type": "text"
      },
      "source": [
        "![대체 텍스트](https://encrypted-tbn0.gstatic.com/images?q=tbn%3AANd9GcSOy3-opc_9D5hL15lHgTrvkrvDEIQtBAt8toCh9EavygbVJuwJ)\n",
        "\n",
        "# XOR gate (배타적 논리합)\n",
        "\n",
        "* x1과 x2 중 한쪽이 1일 때만 1을 출력('배타적'은 자기 외에는 거부한다는 의미)\n",
        "\n",
        "* single-layer perceptron(단층 퍼셉트론)으로는 XOR gate를 표현할 수 없음 or 단층 퍼셉트론으로는 비선형 영역을 분리할 수 없음\n"
      ]
    },
    {
      "cell_type": "code",
      "metadata": {
        "id": "Nr0P0Z5_mNAh",
        "colab_type": "code",
        "colab": {
          "base_uri": "https://localhost:8080/",
          "height": 35
        },
        "outputId": "a34c228c-0176-4806-9400-9ddcfe1f5f4b"
      },
      "source": [
        "#XOR gate\n",
        "\n",
        "def XOR(x1, x2):\n",
        "  s1 = NAND(x1, x2)\n",
        "  s2 = OR(x1, x2)\n",
        "  y = AND2(s1,s2)\n",
        "  return y\n",
        "\n",
        "XOR(0,0)"
      ],
      "execution_count": 30,
      "outputs": [
        {
          "output_type": "execute_result",
          "data": {
            "text/plain": [
              "0"
            ]
          },
          "metadata": {
            "tags": []
          },
          "execution_count": 30
        }
      ]
    },
    {
      "cell_type": "code",
      "metadata": {
        "id": "kAwj-GdJmi6A",
        "colab_type": "code",
        "colab": {
          "base_uri": "https://localhost:8080/",
          "height": 35
        },
        "outputId": "0615db70-860c-449a-9e0f-3762968aabf6"
      },
      "source": [
        "XOR(1,0)"
      ],
      "execution_count": 31,
      "outputs": [
        {
          "output_type": "execute_result",
          "data": {
            "text/plain": [
              "1"
            ]
          },
          "metadata": {
            "tags": []
          },
          "execution_count": 31
        }
      ]
    },
    {
      "cell_type": "code",
      "metadata": {
        "id": "ECAy9IB2mlTZ",
        "colab_type": "code",
        "colab": {
          "base_uri": "https://localhost:8080/",
          "height": 35
        },
        "outputId": "66bf57ad-b170-43b6-cca1-b115914c8a34"
      },
      "source": [
        "XOR(0,1)"
      ],
      "execution_count": 32,
      "outputs": [
        {
          "output_type": "execute_result",
          "data": {
            "text/plain": [
              "1"
            ]
          },
          "metadata": {
            "tags": []
          },
          "execution_count": 32
        }
      ]
    },
    {
      "cell_type": "code",
      "metadata": {
        "id": "8ldqhkYOmnfi",
        "colab_type": "code",
        "colab": {
          "base_uri": "https://localhost:8080/",
          "height": 35
        },
        "outputId": "e3ac3c18-4cfd-4323-873e-90abf0c029de"
      },
      "source": [
        "XOR(1,1)"
      ],
      "execution_count": 33,
      "outputs": [
        {
          "output_type": "execute_result",
          "data": {
            "text/plain": [
              "0"
            ]
          },
          "metadata": {
            "tags": []
          },
          "execution_count": 33
        }
      ]
    },
    {
      "cell_type": "markdown",
      "metadata": {
        "id": "mv-Kimpkr0tF",
        "colab_type": "text"
      },
      "source": [
        "# 정리\n",
        "\n",
        "* perceptron은 입출력(I/O)를 갖춘 알고리즘이다. 입력(input)을 주면 정해진 규칙에 따라 다른 값을 출력(output)\n",
        "\n",
        "* perceptron에서는 '가중치'와 '편향'을 매개변수로 생성\n",
        "\n",
        "* perceptron으로 AND, OR gate등의 논리회로 표현할 수 있다.\n",
        "\n",
        "* XOR gate는 단층 퍼셉트론(single layer perceptron)으로 표기할 수 없다.\n",
        "\n",
        "* 2층 퍼셉트론 (multilayer perceptron)으로 표현 가능\n",
        "\n",
        "* 단층 퍼셉트론은 직선형 영역만 표현할 수 있고, 다층 퍼셉트론은 비선형 영역도 표현할 수 있다.\n",
        "\n",
        "* 다층 퍼셉트론은 (이론상) 컴퓨터를 표현할 수 있다.\n",
        "\n",
        "* 단층 퍼셉트론을 사용하여 XOR 연산을 하려면 data의 차원 변형하는 방법도 있음"
      ]
    }
  ]
}