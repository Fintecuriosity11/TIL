{
  "nbformat": 4,
  "nbformat_minor": 0,
  "metadata": {
    "colab": {
      "name": "ch4_nn_training1.ipynb",
      "provenance": [],
      "collapsed_sections": []
    },
    "kernelspec": {
      "name": "python3",
      "display_name": "Python 3"
    },
    "accelerator": "GPU"
  },
  "cells": [
    {
      "cell_type": "markdown",
      "metadata": {
        "id": "TWUpwrZYXuoa",
        "colab_type": "text"
      },
      "source": [
        "# 4 신경망 학습 (Neural network training)\n",
        "\n",
        "* \"**학습**\"이란 훈련 데이터(training data)로부터 가중치 매개변수의 최적값을 자동을 획득하는 것을 의미\n",
        "\n",
        "* 신경망이 학습할 수 있도록 해주는 지표인 **\"손실함수(loss function)\"**\n",
        "\n",
        "* **손실 함수(loss function)**는 결괏값을 가장 적게 만드는 가중치 매개변수를 찾는 것이 학습의 목표이다. "
      ]
    },
    {
      "cell_type": "markdown",
      "metadata": {
        "id": "mu4Tc_FNITOm",
        "colab_type": "text"
      },
      "source": [
        "# 4.1 데이터 주도 학습 (Data driven training)\n",
        "\n",
        "* 기계학습에서 데이터가 중요하다. 왜냐하면 데이터를 기반으로 답을 찾고,데이터에서 패턴을 <br> 발견하고 데이터로 이야기를 만들기도 한다.\n",
        "<br>\n",
        "<br>\n",
        "<img src=\"https://user-images.githubusercontent.com/56021593/77249091-22959c80-6c82-11ea-9dea-c8cd1b7a7337.png\" height=\"300\" width=\"300\">\n",
        "<br>\n",
        "* 위의 이미지에서 '6'이라는 숫자를 인식하는 프로그램을 구현한다고 가정을 한다.\n",
        "<br> 손글씨 이미지를 보고 6인지 아닌지를 판단하는 task를 수행하는 프로그램 구현이 주목적이다.\n",
        "<br>\n",
        "<br>\n",
        "그러면 '6'을 인식하는 알고리즘을 기초부터 설계하는 대신, 주어진 데이터를 잘 활용하여 해결하는 것이 제일 효율적일 것이다.<br>\n",
        "일단 이미지에서 특징(feature)을 추출하고 그 특징의 패턴을 기계학습으로 학습하는 방법이 있다.\n"
      ]
    },
    {
      "cell_type": "markdown",
      "metadata": {
        "id": "4lFK8l8MMfGo",
        "colab_type": "text"
      },
      "source": [
        "\n",
        "여기서 말하는 특징은 입력 데이터(input image)에서 본질적인 데이터(중요한 데이터)<br>를 정확하게 추출할 수 있도록 설계된 변환기를 가르킨다.\n",
        "<br>\n",
        "<br>\n",
        "이미지의 특징은 보통 벡터로 기술하고, 컴퓨터 비전(Computer Vision) 분야에서는 <br>SIFT, SURF, HOG등의 특징을 많이 사용한다. 이런 특징을 사용하여 이미지 데이터를 벡터(vector)로<br> 변환하고, 변환된 벡터를 가지고 지도학습 방식의 대표 분류 기법인<br> SVM(Support Vectore Machine), KNN(K-Nearest Neighbor)등으로 학습을 할 수 있다.\n",
        "<br>\n",
        "<br>\n",
        "이와 같은 기계학습에서는 **모아진 데이터**로부터 규칙을 찾아내는 역할을 기계가 담당한다.<br> 다만, 이미지를 벡터로 변환할 때 사용하는 특징은 여전히 '사람'이 설계하는 것은 명심해야 한다.\n",
        "<br>\n",
        "위의 말은 문제에 적합한 특징을 쓰지 않으면 좋은 결과를 얻을 수 없다는 것을 의미한다.\n"
      ]
    },
    {
      "cell_type": "markdown",
      "metadata": {
        "id": "49PBWWwzONRN",
        "colab_type": "text"
      },
      "source": [
        "<img src=\"https://user-images.githubusercontent.com/56021593/77249417-435ef180-6c84-11ea-994a-ac6c700ca25d.jpeg\">\n",
        "<br>\n",
        "위의 그림과 같이 신경망은 이미지를 \"있는 그대로\" 학습한다. 2번째 접근 방식<br>\n",
        "(특징과 기계학습 방식)에서는 특징을 사람이 설계했지만, 신경망은 이미지에 포함된<br> 중요한 특징까지도 '기계'가 스스로 학습할 것이다.\n",
        "<br>\n",
        "<br>\n",
        "딥러닝을 \"end-to-end machine learning\" 이라고 한다. 말 그대로 처음부터 끝까지<br> 데이터(input값)에서 목표한 출력(output값)를 얻는다는 뜻이다.\n",
        "<br>\n",
        "<br>\n",
        "신경망은 모든 문제를 주어진 데이터 그대로 입력 데이터로 활용해 'end-to-end'로<br> 학습할 수 있다.\n"
      ]
    },
    {
      "cell_type": "markdown",
      "metadata": {
        "id": "P7SYGfc3PL9l",
        "colab_type": "text"
      },
      "source": [
        "# 4.12 훈련 & 시험 데이터(Training & Test Data)\n",
        "\n",
        "기계학습 문제는 데이터를 훈련 데이터와 시험데이터로 나눠 학습과 실험을 수행한다.<br> 우선 훈련 데이터만 사용하여 학습하면서 최적의 매개변수(hyperparameter)를 찾는다.\n",
        "\n",
        "그런 다음 시험 데이터를 사용하여 앞서 훈련한 모델의 실력을 평가한다.<br>\n",
        "<br>\n",
        "* 도대체 왜 훈련 데이터와 시험 데이터를 나눠야 하는 걸까?\n",
        "이유는 우리가 범용적으로 <br>사용할 수 있는 모델을 원하기 때문이다. 이 범용능력을 제대로 평가하기 위해 훈련 데이터와 <br> 시험 데이터를 분리하는 것이다. \n",
        "<br>\n",
        "<br>\n",
        "범용 능력은 아직 보지 못한 데이터(훈련 데이터에 포함되지 않는 데이터)로도<br>\n",
        "문제를 올바르게 풀어내는 능력이다. \n"
      ]
    },
    {
      "cell_type": "markdown",
      "metadata": {
        "id": "Erp9YmJwWrcz",
        "colab_type": "text"
      },
      "source": [
        "ex) 예를 들어 손글씨 순자 인식의 최종 결과는 엽서에서 우편 번호를 자동으로 판독하는 시스템에 <br> \n",
        "쓰일지도 모른다. 그렇다면 손글씨 숫자 인식은 '누군가'가 쓴 글자를 인식하는 능력이 높지 않으면 안된다.  \n",
        "<br>\n",
        "<br>\n",
        "그 누군가는 '특정인의 글자'가 아니라 '임의의 사람의 임의의 글자'다. 만약 수중에 있는 훈련 데이터로만<br> 잘 판별한다면 그 데이터에 포함된 사람의 글씨체만 학습했을 가능성이 있다.\n",
        "<br>\n",
        "<br>\n",
        "그래서 데이터셋 하나로만 매개변수의 학습과 평가를 수행하면 올바른 평가가 될 수 없다.<br>\n",
        "수중에 데이터셋에만 지나치게 최적화 된 상태를 **오버피팅(overfitting)**이라고 한다."
      ]
    },
    {
      "cell_type": "markdown",
      "metadata": {
        "id": "ygM5YmpWYHWa",
        "colab_type": "text"
      },
      "source": [
        "# 4.2 손실 함수(Loss function)\n",
        "\n",
        "신경망에서도 '하나의 지표'를 기준으로 최적의 매개변수 값을 탐색한다.<br>\n",
        "신경망 학습에서 사용하는 지표는 손실 함수(loss function)이라고 한다.<br>\n",
        "<br>\n",
        "손실 함수는 임의의 함수를 사용할 수도 있지만 일반적으로는 평균 제곱오차와 교차 엔트로피를 사용한다. "
      ]
    },
    {
      "cell_type": "markdown",
      "metadata": {
        "id": "1sou54LCZKsw",
        "colab_type": "text"
      },
      "source": [
        "\n",
        "# 4.21 평균 제곱 오차(Mean squared error, MSE)\n",
        "\n",
        "\\begin{align}\n",
        "E = \\dfrac{1}{2} \\sum_{k} (y_k-t_k)^2\n",
        "\\end{align}\n",
        "\n",
        "* 위에서 y_k는 신경망의 출력 (신경망이 추정한 값), t_k는 정답 레이블, k는 데이터의 차원의 수를 의미"
      ]
    },
    {
      "cell_type": "code",
      "metadata": {
        "id": "NDrM8Zn5XJzI",
        "colab_type": "code",
        "colab": {}
      },
      "source": [
        "y = [0.1, 0.05, 0.6, 0.0, 0.05, 0.1, 0.0, 0.1, 0.0, 0.0]   # 원소 10개짜리 데이터(y_k)\n",
        "t = [0, 0 ,1 , 0, 0, 0, 0, 0, 0, 0]                        # 원소 10개짜리 데이터(t_k)"
      ],
      "execution_count": 0,
      "outputs": []
    },
    {
      "cell_type": "markdown",
      "metadata": {
        "id": "JCoLGfsLtWXi",
        "colab_type": "text"
      },
      "source": [
        "배열들의 원소는 첫 번째 인덱스부터 순서대로 숫자 '0', '1', '2',... 일때의 값이다. 여기에서 신경망의 출력 y는 softmax 함수의 출력이다.<br>\n",
        "<br>\n",
        "softmax함수의 출력은 확률로 해석할 수 있으므로, 이미지가 '0'일 확률은 0.1, '1'일 확률은 0.05, '2'일 확률은 0.6이라고 해석<br>\n",
        "<br>\n",
        "한편 정답 레이블인 t는 정답을 의미하는 위치의 원소는 1로, 그외에는 0으로 표기<br>\n",
        "<br>\n",
        "여기에서는 숫자 '2'에 해당하는 원소의 값이 1이므로 정답이 '2'임을 알 수있다.<br>\n",
        "<br>\n",
        "이처럼 한 원소만 1로 하고 그외는 0으로 나타내는 표기법을 원핫 인코딩이라 한다."
      ]
    },
    {
      "cell_type": "markdown",
      "metadata": {
        "id": "GnwR9Tj0uSka",
        "colab_type": "text"
      },
      "source": [
        "평균 오차는 식과 같이 각 원소의 출력(추정값)과 정답레이블(참 값)의 차(yk-tk)를 제곱한 후, 그 총합을 구한다."
      ]
    },
    {
      "cell_type": "code",
      "metadata": {
        "id": "hLZdzhnpbdyK",
        "colab_type": "code",
        "outputId": "a1570cc5-f150-424f-9f5f-a7892999965e",
        "colab": {
          "base_uri": "https://localhost:8080/",
          "height": 35
        }
      },
      "source": [
        "import numpy as np\n",
        "\n",
        "# 인수 y와 t는 Numpy 배열이 됨\n",
        "\n",
        "def mean_squared_error(y,t):                                                   \n",
        "  return 0.5 * np.sum((y-t)**2)\n",
        "\n",
        "# 정답 레이블인 t는 정답을 의미하는 위치의 원소로 1로, 그 외는 0으로 표현 \n",
        "\n",
        "t = [0, 0 ,1 , 0, 0, 0, 0, 0, 0, 0]\n",
        "\n",
        "# '2'일 확률이 가장 높다고 추정했을 경우 (0.6)\n",
        "\n",
        "y = [0.1, 0.05, 0.6, 0.0, 0.05, 0.1, 0.0, 0.1, 0.0, 0.0] \n",
        "                    \n",
        "mean_squared_error(np.array(y), np.array(t))"
      ],
      "execution_count": 0,
      "outputs": [
        {
          "output_type": "execute_result",
          "data": {
            "text/plain": [
              "0.09750000000000003"
            ]
          },
          "metadata": {
            "tags": []
          },
          "execution_count": 2
        }
      ]
    },
    {
      "cell_type": "code",
      "metadata": {
        "id": "FTu092n_b0VN",
        "colab_type": "code",
        "outputId": "38c6a1cf-b40d-417d-c9ea-1fef424a5d9e",
        "colab": {
          "base_uri": "https://localhost:8080/",
          "height": 35
        }
      },
      "source": [
        "y = [0.1, 0.05, 0.1, 0.0, 0.05, 0.1, 0.0, 0.6, 0.0, 0.0]                    # '7'일 확률이 가장 높다고 추정했을 경우 (0.6)\n",
        "mean_squared_error(np.array(y), np.array(t))"
      ],
      "execution_count": 0,
      "outputs": [
        {
          "output_type": "execute_result",
          "data": {
            "text/plain": [
              "0.5975"
            ]
          },
          "metadata": {
            "tags": []
          },
          "execution_count": 3
        }
      ]
    },
    {
      "cell_type": "markdown",
      "metadata": {
        "id": "jXwZJ-eBZliz",
        "colab_type": "text"
      },
      "source": [
        "한 원소만 1로 표기하고 그 외에는 0으로 나타내는 표기법을 **원-핫 인코딩**이라 한다."
      ]
    },
    {
      "cell_type": "markdown",
      "metadata": {
        "id": "EY1WgOeacz_Y",
        "colab_type": "text"
      },
      "source": [
        "# 4.22 교차 엔트로피 오차(Cross entropy error)\n",
        "\n",
        "\\begin{align}\n",
        "E = -\\sum_{k} t_k log y_k\n",
        "\\end{align}\n",
        "\n",
        "log는 밑이 e인 자연로그(log_e)임. y_k는 신경망의 출력, t_k는 정답 레이블을 의미\n",
        "<br>\n",
        "<br> t_k는 정답에 해당하는 인덱스의 원소만 1이고 나머지는 0이다.(원핫인코딩)<br>\n"
      ]
    },
    {
      "cell_type": "code",
      "metadata": {
        "id": "sodT2PYkdjOG",
        "colab_type": "code",
        "outputId": "40edd7bd-6f60-4f2a-bccc-ac00a041c3fc",
        "colab": {
          "base_uri": "https://localhost:8080/",
          "height": 35
        }
      },
      "source": [
        "def cross_entropy_error(y,t):\n",
        "  delta = 1e-7\n",
        "  return -np.sum(t*np.log(y + delta))\n",
        "\n",
        "t = [0, 0 ,1 , 0, 0, 0, 0, 0, 0, 0]\n",
        "y = [0.1, 0.05, 0.6, 0.0, 0.05, 0.1, 0.0, 0.1, 0.0, 0.0]              # 정답일때 출력이 0.6 인 경우, 교차 엔트로피는 0.51\n",
        "cross_entropy_error(np.array(y), np.array(t))"
      ],
      "execution_count": 0,
      "outputs": [
        {
          "output_type": "execute_result",
          "data": {
            "text/plain": [
              "0.510825457099338"
            ]
          },
          "metadata": {
            "tags": []
          },
          "execution_count": 4
        }
      ]
    },
    {
      "cell_type": "code",
      "metadata": {
        "id": "Kt-NwLUkd_ds",
        "colab_type": "code",
        "outputId": "95a889ce-0132-465b-f432-5408342e26c2",
        "colab": {
          "base_uri": "https://localhost:8080/",
          "height": 35
        }
      },
      "source": [
        "y = [0.1, 0.05, 0.1, 0.0, 0.05, 0.1, 0.0, 0.6, 0.0, 0.0]             # 정답일때 출력이 0.1 인 경우, 교차 엔트로피는 2.30\n",
        "cross_entropy_error(np.array(y), np.array(t))                        # 즉, 결과(오차 값)가 더 작은 1번째 추정이 정답일 가능성이 높다고 판단, 평균 제곱의 오차의 판단과 일치"
      ],
      "execution_count": 0,
      "outputs": [
        {
          "output_type": "execute_result",
          "data": {
            "text/plain": [
              "2.302584092994546"
            ]
          },
          "metadata": {
            "tags": []
          },
          "execution_count": 6
        }
      ]
    },
    {
      "cell_type": "markdown",
      "metadata": {
        "id": "olfDSVx1enWk",
        "colab_type": "text"
      },
      "source": [
        "# 4.23 미니배치 학습 (Mini batch training)\n",
        "\n",
        "* 훈련 데이터(training data)에 대한 손실 함수(loss function)의 값을 구하고, 그 값을 최대한 줄여주는 매개변수를 찾아냄\n",
        "> ex) 이런 방법으로 하려면 모든 훈련 데이터를 대상으로 손실 함수 값을 구해야 함. 즉, 훈련데이터가 100개 있으면 그로부터 계산한 100개의 손실 함수 값들의 합을 지표로 삼는 것\n",
        "\n",
        "<br>\n",
        "<br>\n",
        "* 훈련 데이터 모두에 대한 손실 함수의 합을 구하는 법\n",
        "\n",
        "\\begin{align}\n",
        "E = -\\sum_{k} t_k log y_k\n",
        "\\end{align}\n"
      ]
    },
    {
      "cell_type": "code",
      "metadata": {
        "id": "S4tPA3LmecY3",
        "colab_type": "code",
        "colab": {}
      },
      "source": [
        "import sys, os\n",
        "sys.path.append(os.pardir)\n",
        "import numpy as np\n",
        "from dataset.mnist import load_mnist\n",
        "\n",
        "(x_train, t_train), (x_test, t_test) = |\n",
        "    load_mnist(normalize=True, one_hot_label=True)\n",
        "\n",
        "print(x_train.shape)  #(60000, 784)\n",
        "print(t_train.shape)  #(60000, 10)"
      ],
      "execution_count": 0,
      "outputs": []
    },
    {
      "cell_type": "markdown",
      "metadata": {
        "id": "tXpw1gXBuvfi",
        "colab_type": "text"
      },
      "source": [
        "MNIST 데이터셋은 훈련데이터가 60,000개 있다.\n",
        "그래서 모든 데이터를 대산으로 손실함수의 합을 구하려면 시간이 걸린다.\n",
        "신경망 학습에서 훈련 데이터로부터 일부만 골라 학습을 수행한다.  이 일부를 mini-batch라고 한다. \n"
      ]
    },
    {
      "cell_type": "markdown",
      "metadata": {
        "id": "_l0Ss2xqvBLE",
        "colab_type": "text"
      },
      "source": [
        "60,000장의 훈련데이터 중에서 100장을 무작위로 뽑아 그 100장을 사용하여 학습(미니배치 학습)"
      ]
    },
    {
      "cell_type": "code",
      "metadata": {
        "id": "38KkwmcovxyZ",
        "colab_type": "code",
        "colab": {}
      },
      "source": [
        "train_size = x_train.shape[0]\n",
        "batch_size = 10\n",
        "batch.mask = np.random.choice(train_size, batch_size)\n",
        "x_batch = x_train[batch_mask]\n",
        "t_batch = t_train[batch_mask]"
      ],
      "execution_count": 0,
      "outputs": []
    },
    {
      "cell_type": "markdown",
      "metadata": {
        "id": "xtP9lDRKlciS",
        "colab_type": "text"
      },
      "source": [
        "#4.24 (배치용) 교차 엔트로피 오차 구현"
      ]
    },
    {
      "cell_type": "code",
      "metadata": {
        "id": "uqzRZbYvlir5",
        "colab_type": "code",
        "colab": {}
      },
      "source": [
        "def cross_entropy_error(y,t):                           # 교차 엔트로피 오차를 함수로 선언, 안 에 인자값 input (y,t) / y는 신경망의 출력, t는 정답 레이블을 의미 \n",
        "  if y.ndim ==1:                                        # y가 1차원이라면 (.dim)함수는 차원을 의미함\n",
        "      t = t.reshape(1, t.size)                          #  reshape 함수는 데이터의 형상을 바꿈\n",
        "      y = y.reshape(1, y.size)\n",
        "  \n",
        "  batch_size = y.shape[0]\n",
        "  return -np.sum(t * np.log(y)) / batch_size"
      ],
      "execution_count": 0,
      "outputs": []
    },
    {
      "cell_type": "code",
      "metadata": {
        "id": "8aePgZKmnQNh",
        "colab_type": "code",
        "colab": {}
      },
      "source": [
        "def cross_entropy_error(y,t):\n",
        "  if y.ndim == 1:\n",
        "    t = t.reshape(1, t.size)\n",
        "    y = y.reshape(1, y.size)\n",
        "  \n",
        "  batch_size = y.shape[0]\n",
        "  return -np.sum(np.log(y[np.arrange(batch_size),t])) / batch_size"
      ],
      "execution_count": 0,
      "outputs": []
    }
  ]
}